{
  "nbformat": 4,
  "nbformat_minor": 0,
  "metadata": {
    "colab": {
      "provenance": [],
      "gpuType": "V5E1",
      "authorship_tag": "ABX9TyPNCogeiN7Py9B84ftxYw/a",
      "include_colab_link": true
    },
    "kernelspec": {
      "name": "python3",
      "display_name": "Python 3"
    },
    "language_info": {
      "name": "python"
    },
    "accelerator": "TPU"
  },
  "cells": [
    {
      "cell_type": "markdown",
      "metadata": {
        "id": "view-in-github",
        "colab_type": "text"
      },
      "source": [
        "<a href=\"https://colab.research.google.com/github/mab2004/Multimodal-Housing-Price-Prediction/blob/main/Multimodal_Housing_Price_Prediction.ipynb\" target=\"_parent\"><img src=\"https://colab.research.google.com/assets/colab-badge.svg\" alt=\"Open In Colab\"/></a>"
      ]
    },
    {
      "cell_type": "markdown",
      "source": [
        "## Setup, Installation, and Data Download"
      ],
      "metadata": {
        "id": "Qnioz53_NU_n"
      }
    },
    {
      "cell_type": "code",
      "execution_count": null,
      "metadata": {
        "id": "hzF9g2UfMRvU"
      },
      "outputs": [],
      "source": [
        "# Install necessary libraries (re-run to ensure all are installed)\n",
        "!pip install tensorflow scikit-learn numpy pandas matplotlib imutils opencv-python\n",
        "\n",
        "# Install git if not present and clone the Houses Dataset repository\n",
        "!apt install git -y\n",
        "!git clone https://github.com/emanhamed/Houses-dataset.git\n",
        "\n",
        "# Define the base path for the cloned dataset\n",
        "BASE_PATH = \"Houses-dataset/Houses Dataset\""
      ]
    },
    {
      "cell_type": "markdown",
      "source": [
        "## Data Loading, Preprocessing, and Scaling"
      ],
      "metadata": {
        "id": "2Gl1AjjtNc0W"
      }
    },
    {
      "cell_type": "code",
      "source": [
        "import numpy as np\n",
        "import pandas as pd\n",
        "import cv2\n",
        "import os\n",
        "from imutils import paths\n",
        "from sklearn.model_selection import train_test_split\n",
        "from sklearn.preprocessing import MinMaxScaler\n",
        "from tensorflow.keras.utils import get_file\n",
        "\n",
        "# --- A. Load Tabular Data (HousesInfo.txt) ---\n",
        "TABULAR_FILE = os.path.join(BASE_PATH, \"HousesInfo.txt\")\n",
        "cols = [\"bedrooms\", \"bathrooms\", \"area\", \"zipcode\", \"price\"]\n",
        "df = pd.read_csv(TABULAR_FILE, sep=\" \", header=None, names=cols)\n",
        "\n",
        "# --- B. Image Processing Setup ---\n",
        "image_paths = sorted(list(paths.list_images(BASE_PATH)))\n",
        "IMAGE_SIZE = (64, 64) # Target size for each of the 4 images\n",
        "\n",
        "# Function to extract the unique house ID from the image filename (e.g., '1_bedroom.jpg' -> 1)\n",
        "def get_house_id(path):\n",
        "    return int(path.split(os.path.sep)[-1].split(\"_\")[0])\n",
        "\n",
        "# Match image paths to the DataFrame indices\n",
        "df['house_id'] = range(1, len(df) + 1)\n",
        "house_ids = [get_house_id(p) for p in image_paths]\n",
        "\n",
        "images = []\n",
        "targets = []\n",
        "# Define the tile positions for merging the 4 images into one 128x128 image\n",
        "TILE_MAP = {\"frontal\": (0, 0), \"bedroom\": (0, 1), \"bathroom\": (1, 0), \"kitchen\": (1, 1)}\n",
        "\n",
        "print(\"[INFO] Loading and preprocessing images...\")\n",
        "\n",
        "for i, row in df.iterrows():\n",
        "    house_id = row['house_id']\n",
        "    price = row['price']\n",
        "\n",
        "    # Filter for the four images corresponding to the current house_id\n",
        "    house_image_paths = [p for p in image_paths if get_house_id(p) == house_id]\n",
        "\n",
        "    if len(house_image_paths) == 4:\n",
        "        tiled_image = np.zeros((IMAGE_SIZE[0] * 2, IMAGE_SIZE[1] * 2, 3), dtype=\"uint8\")\n",
        "\n",
        "        for p in house_image_paths:\n",
        "            img_type = os.path.basename(p).split(\"_\")[1].split(\".\")[0]\n",
        "            if img_type in TILE_MAP:\n",
        "                image = cv2.imread(p)\n",
        "                image = cv2.resize(image, IMAGE_SIZE)\n",
        "\n",
        "                # Place the image in the correct 2x2 tile position\n",
        "                (r, c) = TILE_MAP[img_type]\n",
        "                tiled_image[r*IMAGE_SIZE[0]:(r+1)*IMAGE_SIZE[0], c*IMAGE_SIZE[1]:(c+1)*IMAGE_SIZE[1]] = image\n",
        "\n",
        "        images.append(tiled_image)\n",
        "        targets.append(price)\n",
        "\n",
        "images = np.array(images) / 255.0 # Normalize pixel values to [0, 1]\n",
        "targets = np.array(targets)\n",
        "tabular_data = df.drop('price', axis=1)[cols[:-1]].values # Get tabular features\n",
        "\n",
        "print(f\"[INFO] Loaded {len(images)} samples (houses).\")\n",
        "\n",
        "# --- C. Scaling and Splitting ---\n",
        "\n",
        "# Scale tabular features (Area and Price are large)\n",
        "# NOTE: Price scaling is often applied for NN output stability, but here we scale inputs only for interpretability\n",
        "scaler = MinMaxScaler()\n",
        "tabular_data = scaler.fit_transform(tabular_data)\n",
        "\n",
        "# Split the data into training and testing sets (75% train, 25% test)\n",
        "split = train_test_split(tabular_data, images, targets, test_size=0.25, random_state=42)\n",
        "(X_tabular_train, X_tabular_test, X_image_train, X_image_test, y_train, y_test) = split"
      ],
      "metadata": {
        "colab": {
          "base_uri": "https://localhost:8080/"
        },
        "id": "95biaQrkNZUW",
        "outputId": "8b001715-31b8-4ee9-9e16-7dc80ff9e427"
      },
      "execution_count": 4,
      "outputs": [
        {
          "metadata": {
            "tags": null
          },
          "name": "stderr",
          "output_type": "stream",
          "text": [
            "/usr/local/lib/python3.12/dist-packages/jax/_src/cloud_tpu_init.py:82: UserWarning: Transparent hugepages are not enabled. TPU runtime startup and shutdown time should be significantly improved on TPU v5e and newer. If not already set, you may need to enable transparent hugepages in your VM image (sudo sh -c \"echo always > /sys/kernel/mm/transparent_hugepage/enabled\")\n",
            "  warnings.warn(\n"
          ]
        },
        {
          "output_type": "stream",
          "name": "stdout",
          "text": [
            "[INFO] Loading and preprocessing images...\n",
            "[INFO] Loaded 535 samples (houses).\n"
          ]
        }
      ]
    },
    {
      "cell_type": "markdown",
      "source": [
        "## Multimodal Model Architecture (CNN + MLP Fusion)\n"
      ],
      "metadata": {
        "id": "G9DXINeuPO-W"
      }
    },
    {
      "cell_type": "code",
      "source": [
        "from tensorflow.keras.models import Model\n",
        "from tensorflow.keras.layers import Input, Conv2D, MaxPooling2D, Flatten, Dense, concatenate\n",
        "from tensorflow.keras.optimizers import Adam\n",
        "\n",
        "# --- A. Define Inputs ---\n",
        "image_input_shape = X_image_train.shape[1:]\n",
        "tabular_input_shape = X_tabular_train.shape[1:]\n",
        "\n",
        "# --- B. CNN Branch for Images ---\n",
        "image_input = Input(shape=image_input_shape, name='image_input')\n",
        "x = Conv2D(16, (3, 3), activation='relu')(image_input)\n",
        "x = MaxPooling2D(pool_size=(2, 2))(x)\n",
        "x = Conv2D(32, (3, 3), activation='relu')(x)\n",
        "x = MaxPooling2D(pool_size=(2, 2))(x)\n",
        "x = Flatten()(x)\n",
        "x = Dense(64, activation='relu')(x)\n",
        "\n",
        "# --- C. Tabular Branch (MLP) ---\n",
        "tabular_input = Input(shape=tabular_input_shape, name='tabular_input')\n",
        "y = Dense(16, activation='relu')(tabular_input)\n",
        "y = Dense(8, activation='relu')(y)\n",
        "\n",
        "# --- D. Feature Fusion and Output ---\n",
        "combined_features = concatenate([x, y])\n",
        "z = Dense(32, activation='relu')(combined_features)\n",
        "output = Dense(1, activation='linear')(z) # Linear activation for regression (price prediction)\n",
        "\n",
        "# Create and compile the final model\n",
        "model = Model(inputs=[image_input, tabular_input], outputs=output)\n",
        "model.compile(optimizer=Adam(learning_rate=1e-3), loss='mean_squared_error')\n",
        "\n",
        "print(\"[INFO] Model Architecture:\")\n",
        "model.summary()"
      ],
      "metadata": {
        "colab": {
          "base_uri": "https://localhost:8080/",
          "height": 714
        },
        "id": "m_IT9375PL3W",
        "outputId": "357a8e4c-a092-40b5-89b4-662525795f2e"
      },
      "execution_count": 5,
      "outputs": [
        {
          "output_type": "stream",
          "name": "stdout",
          "text": [
            "[INFO] Model Architecture:\n"
          ]
        },
        {
          "output_type": "display_data",
          "data": {
            "text/plain": [
              "\u001b[1mModel: \"functional\"\u001b[0m\n"
            ],
            "text/html": [
              "<pre style=\"white-space:pre;overflow-x:auto;line-height:normal;font-family:Menlo,'DejaVu Sans Mono',consolas,'Courier New',monospace\"><span style=\"font-weight: bold\">Model: \"functional\"</span>\n",
              "</pre>\n"
            ]
          },
          "metadata": {}
        },
        {
          "output_type": "display_data",
          "data": {
            "text/plain": [
              "┏━━━━━━━━━━━━━━━━━━━━━┳━━━━━━━━━━━━━━━━━━━┳━━━━━━━━━━━━┳━━━━━━━━━━━━━━━━━━━┓\n",
              "┃\u001b[1m \u001b[0m\u001b[1mLayer (type)       \u001b[0m\u001b[1m \u001b[0m┃\u001b[1m \u001b[0m\u001b[1mOutput Shape     \u001b[0m\u001b[1m \u001b[0m┃\u001b[1m \u001b[0m\u001b[1m   Param #\u001b[0m\u001b[1m \u001b[0m┃\u001b[1m \u001b[0m\u001b[1mConnected to     \u001b[0m\u001b[1m \u001b[0m┃\n",
              "┡━━━━━━━━━━━━━━━━━━━━━╇━━━━━━━━━━━━━━━━━━━╇━━━━━━━━━━━━╇━━━━━━━━━━━━━━━━━━━┩\n",
              "│ image_input         │ (\u001b[38;5;45mNone\u001b[0m, \u001b[38;5;34m128\u001b[0m, \u001b[38;5;34m128\u001b[0m,  │          \u001b[38;5;34m0\u001b[0m │ -                 │\n",
              "│ (\u001b[38;5;33mInputLayer\u001b[0m)        │ \u001b[38;5;34m3\u001b[0m)                │            │                   │\n",
              "├─────────────────────┼───────────────────┼────────────┼───────────────────┤\n",
              "│ conv2d (\u001b[38;5;33mConv2D\u001b[0m)     │ (\u001b[38;5;45mNone\u001b[0m, \u001b[38;5;34m126\u001b[0m, \u001b[38;5;34m126\u001b[0m,  │        \u001b[38;5;34m448\u001b[0m │ image_input[\u001b[38;5;34m0\u001b[0m][\u001b[38;5;34m0\u001b[0m] │\n",
              "│                     │ \u001b[38;5;34m16\u001b[0m)               │            │                   │\n",
              "├─────────────────────┼───────────────────┼────────────┼───────────────────┤\n",
              "│ max_pooling2d       │ (\u001b[38;5;45mNone\u001b[0m, \u001b[38;5;34m63\u001b[0m, \u001b[38;5;34m63\u001b[0m,    │          \u001b[38;5;34m0\u001b[0m │ conv2d[\u001b[38;5;34m0\u001b[0m][\u001b[38;5;34m0\u001b[0m]      │\n",
              "│ (\u001b[38;5;33mMaxPooling2D\u001b[0m)      │ \u001b[38;5;34m16\u001b[0m)               │            │                   │\n",
              "├─────────────────────┼───────────────────┼────────────┼───────────────────┤\n",
              "│ conv2d_1 (\u001b[38;5;33mConv2D\u001b[0m)   │ (\u001b[38;5;45mNone\u001b[0m, \u001b[38;5;34m61\u001b[0m, \u001b[38;5;34m61\u001b[0m,    │      \u001b[38;5;34m4,640\u001b[0m │ max_pooling2d[\u001b[38;5;34m0\u001b[0m]… │\n",
              "│                     │ \u001b[38;5;34m32\u001b[0m)               │            │                   │\n",
              "├─────────────────────┼───────────────────┼────────────┼───────────────────┤\n",
              "│ max_pooling2d_1     │ (\u001b[38;5;45mNone\u001b[0m, \u001b[38;5;34m30\u001b[0m, \u001b[38;5;34m30\u001b[0m,    │          \u001b[38;5;34m0\u001b[0m │ conv2d_1[\u001b[38;5;34m0\u001b[0m][\u001b[38;5;34m0\u001b[0m]    │\n",
              "│ (\u001b[38;5;33mMaxPooling2D\u001b[0m)      │ \u001b[38;5;34m32\u001b[0m)               │            │                   │\n",
              "├─────────────────────┼───────────────────┼────────────┼───────────────────┤\n",
              "│ tabular_input       │ (\u001b[38;5;45mNone\u001b[0m, \u001b[38;5;34m4\u001b[0m)         │          \u001b[38;5;34m0\u001b[0m │ -                 │\n",
              "│ (\u001b[38;5;33mInputLayer\u001b[0m)        │                   │            │                   │\n",
              "├─────────────────────┼───────────────────┼────────────┼───────────────────┤\n",
              "│ flatten (\u001b[38;5;33mFlatten\u001b[0m)   │ (\u001b[38;5;45mNone\u001b[0m, \u001b[38;5;34m28800\u001b[0m)     │          \u001b[38;5;34m0\u001b[0m │ max_pooling2d_1[\u001b[38;5;34m…\u001b[0m │\n",
              "├─────────────────────┼───────────────────┼────────────┼───────────────────┤\n",
              "│ dense_1 (\u001b[38;5;33mDense\u001b[0m)     │ (\u001b[38;5;45mNone\u001b[0m, \u001b[38;5;34m16\u001b[0m)        │         \u001b[38;5;34m80\u001b[0m │ tabular_input[\u001b[38;5;34m0\u001b[0m]… │\n",
              "├─────────────────────┼───────────────────┼────────────┼───────────────────┤\n",
              "│ dense (\u001b[38;5;33mDense\u001b[0m)       │ (\u001b[38;5;45mNone\u001b[0m, \u001b[38;5;34m64\u001b[0m)        │  \u001b[38;5;34m1,843,264\u001b[0m │ flatten[\u001b[38;5;34m0\u001b[0m][\u001b[38;5;34m0\u001b[0m]     │\n",
              "├─────────────────────┼───────────────────┼────────────┼───────────────────┤\n",
              "│ dense_2 (\u001b[38;5;33mDense\u001b[0m)     │ (\u001b[38;5;45mNone\u001b[0m, \u001b[38;5;34m8\u001b[0m)         │        \u001b[38;5;34m136\u001b[0m │ dense_1[\u001b[38;5;34m0\u001b[0m][\u001b[38;5;34m0\u001b[0m]     │\n",
              "├─────────────────────┼───────────────────┼────────────┼───────────────────┤\n",
              "│ concatenate         │ (\u001b[38;5;45mNone\u001b[0m, \u001b[38;5;34m72\u001b[0m)        │          \u001b[38;5;34m0\u001b[0m │ dense[\u001b[38;5;34m0\u001b[0m][\u001b[38;5;34m0\u001b[0m],      │\n",
              "│ (\u001b[38;5;33mConcatenate\u001b[0m)       │                   │            │ dense_2[\u001b[38;5;34m0\u001b[0m][\u001b[38;5;34m0\u001b[0m]     │\n",
              "├─────────────────────┼───────────────────┼────────────┼───────────────────┤\n",
              "│ dense_3 (\u001b[38;5;33mDense\u001b[0m)     │ (\u001b[38;5;45mNone\u001b[0m, \u001b[38;5;34m32\u001b[0m)        │      \u001b[38;5;34m2,336\u001b[0m │ concatenate[\u001b[38;5;34m0\u001b[0m][\u001b[38;5;34m0\u001b[0m] │\n",
              "├─────────────────────┼───────────────────┼────────────┼───────────────────┤\n",
              "│ dense_4 (\u001b[38;5;33mDense\u001b[0m)     │ (\u001b[38;5;45mNone\u001b[0m, \u001b[38;5;34m1\u001b[0m)         │         \u001b[38;5;34m33\u001b[0m │ dense_3[\u001b[38;5;34m0\u001b[0m][\u001b[38;5;34m0\u001b[0m]     │\n",
              "└─────────────────────┴───────────────────┴────────────┴───────────────────┘\n"
            ],
            "text/html": [
              "<pre style=\"white-space:pre;overflow-x:auto;line-height:normal;font-family:Menlo,'DejaVu Sans Mono',consolas,'Courier New',monospace\">┏━━━━━━━━━━━━━━━━━━━━━┳━━━━━━━━━━━━━━━━━━━┳━━━━━━━━━━━━┳━━━━━━━━━━━━━━━━━━━┓\n",
              "┃<span style=\"font-weight: bold\"> Layer (type)        </span>┃<span style=\"font-weight: bold\"> Output Shape      </span>┃<span style=\"font-weight: bold\">    Param # </span>┃<span style=\"font-weight: bold\"> Connected to      </span>┃\n",
              "┡━━━━━━━━━━━━━━━━━━━━━╇━━━━━━━━━━━━━━━━━━━╇━━━━━━━━━━━━╇━━━━━━━━━━━━━━━━━━━┩\n",
              "│ image_input         │ (<span style=\"color: #00d7ff; text-decoration-color: #00d7ff\">None</span>, <span style=\"color: #00af00; text-decoration-color: #00af00\">128</span>, <span style=\"color: #00af00; text-decoration-color: #00af00\">128</span>,  │          <span style=\"color: #00af00; text-decoration-color: #00af00\">0</span> │ -                 │\n",
              "│ (<span style=\"color: #0087ff; text-decoration-color: #0087ff\">InputLayer</span>)        │ <span style=\"color: #00af00; text-decoration-color: #00af00\">3</span>)                │            │                   │\n",
              "├─────────────────────┼───────────────────┼────────────┼───────────────────┤\n",
              "│ conv2d (<span style=\"color: #0087ff; text-decoration-color: #0087ff\">Conv2D</span>)     │ (<span style=\"color: #00d7ff; text-decoration-color: #00d7ff\">None</span>, <span style=\"color: #00af00; text-decoration-color: #00af00\">126</span>, <span style=\"color: #00af00; text-decoration-color: #00af00\">126</span>,  │        <span style=\"color: #00af00; text-decoration-color: #00af00\">448</span> │ image_input[<span style=\"color: #00af00; text-decoration-color: #00af00\">0</span>][<span style=\"color: #00af00; text-decoration-color: #00af00\">0</span>] │\n",
              "│                     │ <span style=\"color: #00af00; text-decoration-color: #00af00\">16</span>)               │            │                   │\n",
              "├─────────────────────┼───────────────────┼────────────┼───────────────────┤\n",
              "│ max_pooling2d       │ (<span style=\"color: #00d7ff; text-decoration-color: #00d7ff\">None</span>, <span style=\"color: #00af00; text-decoration-color: #00af00\">63</span>, <span style=\"color: #00af00; text-decoration-color: #00af00\">63</span>,    │          <span style=\"color: #00af00; text-decoration-color: #00af00\">0</span> │ conv2d[<span style=\"color: #00af00; text-decoration-color: #00af00\">0</span>][<span style=\"color: #00af00; text-decoration-color: #00af00\">0</span>]      │\n",
              "│ (<span style=\"color: #0087ff; text-decoration-color: #0087ff\">MaxPooling2D</span>)      │ <span style=\"color: #00af00; text-decoration-color: #00af00\">16</span>)               │            │                   │\n",
              "├─────────────────────┼───────────────────┼────────────┼───────────────────┤\n",
              "│ conv2d_1 (<span style=\"color: #0087ff; text-decoration-color: #0087ff\">Conv2D</span>)   │ (<span style=\"color: #00d7ff; text-decoration-color: #00d7ff\">None</span>, <span style=\"color: #00af00; text-decoration-color: #00af00\">61</span>, <span style=\"color: #00af00; text-decoration-color: #00af00\">61</span>,    │      <span style=\"color: #00af00; text-decoration-color: #00af00\">4,640</span> │ max_pooling2d[<span style=\"color: #00af00; text-decoration-color: #00af00\">0</span>]… │\n",
              "│                     │ <span style=\"color: #00af00; text-decoration-color: #00af00\">32</span>)               │            │                   │\n",
              "├─────────────────────┼───────────────────┼────────────┼───────────────────┤\n",
              "│ max_pooling2d_1     │ (<span style=\"color: #00d7ff; text-decoration-color: #00d7ff\">None</span>, <span style=\"color: #00af00; text-decoration-color: #00af00\">30</span>, <span style=\"color: #00af00; text-decoration-color: #00af00\">30</span>,    │          <span style=\"color: #00af00; text-decoration-color: #00af00\">0</span> │ conv2d_1[<span style=\"color: #00af00; text-decoration-color: #00af00\">0</span>][<span style=\"color: #00af00; text-decoration-color: #00af00\">0</span>]    │\n",
              "│ (<span style=\"color: #0087ff; text-decoration-color: #0087ff\">MaxPooling2D</span>)      │ <span style=\"color: #00af00; text-decoration-color: #00af00\">32</span>)               │            │                   │\n",
              "├─────────────────────┼───────────────────┼────────────┼───────────────────┤\n",
              "│ tabular_input       │ (<span style=\"color: #00d7ff; text-decoration-color: #00d7ff\">None</span>, <span style=\"color: #00af00; text-decoration-color: #00af00\">4</span>)         │          <span style=\"color: #00af00; text-decoration-color: #00af00\">0</span> │ -                 │\n",
              "│ (<span style=\"color: #0087ff; text-decoration-color: #0087ff\">InputLayer</span>)        │                   │            │                   │\n",
              "├─────────────────────┼───────────────────┼────────────┼───────────────────┤\n",
              "│ flatten (<span style=\"color: #0087ff; text-decoration-color: #0087ff\">Flatten</span>)   │ (<span style=\"color: #00d7ff; text-decoration-color: #00d7ff\">None</span>, <span style=\"color: #00af00; text-decoration-color: #00af00\">28800</span>)     │          <span style=\"color: #00af00; text-decoration-color: #00af00\">0</span> │ max_pooling2d_1[<span style=\"color: #00af00; text-decoration-color: #00af00\">…</span> │\n",
              "├─────────────────────┼───────────────────┼────────────┼───────────────────┤\n",
              "│ dense_1 (<span style=\"color: #0087ff; text-decoration-color: #0087ff\">Dense</span>)     │ (<span style=\"color: #00d7ff; text-decoration-color: #00d7ff\">None</span>, <span style=\"color: #00af00; text-decoration-color: #00af00\">16</span>)        │         <span style=\"color: #00af00; text-decoration-color: #00af00\">80</span> │ tabular_input[<span style=\"color: #00af00; text-decoration-color: #00af00\">0</span>]… │\n",
              "├─────────────────────┼───────────────────┼────────────┼───────────────────┤\n",
              "│ dense (<span style=\"color: #0087ff; text-decoration-color: #0087ff\">Dense</span>)       │ (<span style=\"color: #00d7ff; text-decoration-color: #00d7ff\">None</span>, <span style=\"color: #00af00; text-decoration-color: #00af00\">64</span>)        │  <span style=\"color: #00af00; text-decoration-color: #00af00\">1,843,264</span> │ flatten[<span style=\"color: #00af00; text-decoration-color: #00af00\">0</span>][<span style=\"color: #00af00; text-decoration-color: #00af00\">0</span>]     │\n",
              "├─────────────────────┼───────────────────┼────────────┼───────────────────┤\n",
              "│ dense_2 (<span style=\"color: #0087ff; text-decoration-color: #0087ff\">Dense</span>)     │ (<span style=\"color: #00d7ff; text-decoration-color: #00d7ff\">None</span>, <span style=\"color: #00af00; text-decoration-color: #00af00\">8</span>)         │        <span style=\"color: #00af00; text-decoration-color: #00af00\">136</span> │ dense_1[<span style=\"color: #00af00; text-decoration-color: #00af00\">0</span>][<span style=\"color: #00af00; text-decoration-color: #00af00\">0</span>]     │\n",
              "├─────────────────────┼───────────────────┼────────────┼───────────────────┤\n",
              "│ concatenate         │ (<span style=\"color: #00d7ff; text-decoration-color: #00d7ff\">None</span>, <span style=\"color: #00af00; text-decoration-color: #00af00\">72</span>)        │          <span style=\"color: #00af00; text-decoration-color: #00af00\">0</span> │ dense[<span style=\"color: #00af00; text-decoration-color: #00af00\">0</span>][<span style=\"color: #00af00; text-decoration-color: #00af00\">0</span>],      │\n",
              "│ (<span style=\"color: #0087ff; text-decoration-color: #0087ff\">Concatenate</span>)       │                   │            │ dense_2[<span style=\"color: #00af00; text-decoration-color: #00af00\">0</span>][<span style=\"color: #00af00; text-decoration-color: #00af00\">0</span>]     │\n",
              "├─────────────────────┼───────────────────┼────────────┼───────────────────┤\n",
              "│ dense_3 (<span style=\"color: #0087ff; text-decoration-color: #0087ff\">Dense</span>)     │ (<span style=\"color: #00d7ff; text-decoration-color: #00d7ff\">None</span>, <span style=\"color: #00af00; text-decoration-color: #00af00\">32</span>)        │      <span style=\"color: #00af00; text-decoration-color: #00af00\">2,336</span> │ concatenate[<span style=\"color: #00af00; text-decoration-color: #00af00\">0</span>][<span style=\"color: #00af00; text-decoration-color: #00af00\">0</span>] │\n",
              "├─────────────────────┼───────────────────┼────────────┼───────────────────┤\n",
              "│ dense_4 (<span style=\"color: #0087ff; text-decoration-color: #0087ff\">Dense</span>)     │ (<span style=\"color: #00d7ff; text-decoration-color: #00d7ff\">None</span>, <span style=\"color: #00af00; text-decoration-color: #00af00\">1</span>)         │         <span style=\"color: #00af00; text-decoration-color: #00af00\">33</span> │ dense_3[<span style=\"color: #00af00; text-decoration-color: #00af00\">0</span>][<span style=\"color: #00af00; text-decoration-color: #00af00\">0</span>]     │\n",
              "└─────────────────────┴───────────────────┴────────────┴───────────────────┘\n",
              "</pre>\n"
            ]
          },
          "metadata": {}
        },
        {
          "output_type": "display_data",
          "data": {
            "text/plain": [
              "\u001b[1m Total params: \u001b[0m\u001b[38;5;34m1,850,937\u001b[0m (7.06 MB)\n"
            ],
            "text/html": [
              "<pre style=\"white-space:pre;overflow-x:auto;line-height:normal;font-family:Menlo,'DejaVu Sans Mono',consolas,'Courier New',monospace\"><span style=\"font-weight: bold\"> Total params: </span><span style=\"color: #00af00; text-decoration-color: #00af00\">1,850,937</span> (7.06 MB)\n",
              "</pre>\n"
            ]
          },
          "metadata": {}
        },
        {
          "output_type": "display_data",
          "data": {
            "text/plain": [
              "\u001b[1m Trainable params: \u001b[0m\u001b[38;5;34m1,850,937\u001b[0m (7.06 MB)\n"
            ],
            "text/html": [
              "<pre style=\"white-space:pre;overflow-x:auto;line-height:normal;font-family:Menlo,'DejaVu Sans Mono',consolas,'Courier New',monospace\"><span style=\"font-weight: bold\"> Trainable params: </span><span style=\"color: #00af00; text-decoration-color: #00af00\">1,850,937</span> (7.06 MB)\n",
              "</pre>\n"
            ]
          },
          "metadata": {}
        },
        {
          "output_type": "display_data",
          "data": {
            "text/plain": [
              "\u001b[1m Non-trainable params: \u001b[0m\u001b[38;5;34m0\u001b[0m (0.00 B)\n"
            ],
            "text/html": [
              "<pre style=\"white-space:pre;overflow-x:auto;line-height:normal;font-family:Menlo,'DejaVu Sans Mono',consolas,'Courier New',monospace\"><span style=\"font-weight: bold\"> Non-trainable params: </span><span style=\"color: #00af00; text-decoration-color: #00af00\">0</span> (0.00 B)\n",
              "</pre>\n"
            ]
          },
          "metadata": {}
        }
      ]
    },
    {
      "cell_type": "markdown",
      "source": [
        "## Training and Evaluation"
      ],
      "metadata": {
        "id": "-vNfInqsPX2P"
      }
    },
    {
      "cell_type": "code",
      "source": [
        "import numpy as np\n",
        "from sklearn.metrics import mean_absolute_error, mean_squared_error\n",
        "\n",
        "# --- Training the Model ---\n",
        "print(\"\\n[INFO] Training model...\")\n",
        "history = model.fit(\n",
        "    {'image_input': X_image_train, 'tabular_input': X_tabular_train},\n",
        "    y_train,\n",
        "    epochs=25,\n",
        "    batch_size=8,\n",
        "    validation_split=0.1,\n",
        "    verbose=2 # Show one line per epoch\n",
        ")\n",
        "\n",
        "# --- Evaluation ---\n",
        "print(\"\\n[INFO] Evaluating model...\")\n",
        "predictions = model.predict([X_image_test, X_tabular_test])\n",
        "\n",
        "# Calculate MAE and RMSE\n",
        "mae = mean_absolute_error(y_test, predictions)\n",
        "rmse = np.sqrt(mean_squared_error(y_test, predictions))\n",
        "\n",
        "# Format the output clearly\n",
        "print(\"\\n\" + \"=\"*40)\n",
        "print(\" Multimodal Housing Price Prediction Results\")\n",
        "print(\"=\"*40)\n",
        "print(f\"Mean Absolute Error (MAE): ${mae:,.2f}\")\n",
        "print(f\"Root Mean Squared Error (RMSE): ${rmse:,.2f}\")\n",
        "print(\"=\"*40)"
      ],
      "metadata": {
        "colab": {
          "base_uri": "https://localhost:8080/"
        },
        "id": "K601OKxmPVGX",
        "outputId": "1ee0cffa-d948-43af-8e78-cb0b8a3e7441"
      },
      "execution_count": 7,
      "outputs": [
        {
          "output_type": "stream",
          "name": "stdout",
          "text": [
            "\n",
            "[INFO] Training model...\n",
            "Epoch 1/25\n",
            "45/45 - 2s - 42ms/step - loss: 226294611968.0000 - val_loss: 147577880576.0000\n",
            "Epoch 2/25\n",
            "45/45 - 2s - 41ms/step - loss: 227620618240.0000 - val_loss: 151106338816.0000\n",
            "Epoch 3/25\n",
            "45/45 - 2s - 41ms/step - loss: 224215564288.0000 - val_loss: 143819948032.0000\n",
            "Epoch 4/25\n",
            "45/45 - 2s - 42ms/step - loss: 222972641280.0000 - val_loss: 146888048640.0000\n",
            "Epoch 5/25\n",
            "45/45 - 2s - 41ms/step - loss: 228330553344.0000 - val_loss: 155635449856.0000\n",
            "Epoch 6/25\n",
            "45/45 - 2s - 42ms/step - loss: 223803310080.0000 - val_loss: 150280863744.0000\n",
            "Epoch 7/25\n",
            "45/45 - 2s - 42ms/step - loss: 223021858816.0000 - val_loss: 141790347264.0000\n",
            "Epoch 8/25\n",
            "45/45 - 2s - 42ms/step - loss: 222885642240.0000 - val_loss: 159733972992.0000\n",
            "Epoch 9/25\n",
            "45/45 - 2s - 41ms/step - loss: 224355631104.0000 - val_loss: 141026639872.0000\n",
            "Epoch 10/25\n",
            "45/45 - 2s - 44ms/step - loss: 219215921152.0000 - val_loss: 151284842496.0000\n",
            "Epoch 11/25\n",
            "45/45 - 2s - 44ms/step - loss: 218840203264.0000 - val_loss: 140811649024.0000\n",
            "Epoch 12/25\n",
            "45/45 - 2s - 42ms/step - loss: 220505374720.0000 - val_loss: 140193415168.0000\n",
            "Epoch 13/25\n",
            "45/45 - 2s - 42ms/step - loss: 220678815744.0000 - val_loss: 139882364928.0000\n",
            "Epoch 14/25\n",
            "45/45 - 2s - 42ms/step - loss: 216650383360.0000 - val_loss: 140431179776.0000\n",
            "Epoch 15/25\n",
            "45/45 - 2s - 42ms/step - loss: 215874863104.0000 - val_loss: 140052201472.0000\n",
            "Epoch 16/25\n",
            "45/45 - 2s - 41ms/step - loss: 215497375744.0000 - val_loss: 140596346880.0000\n",
            "Epoch 17/25\n",
            "45/45 - 2s - 42ms/step - loss: 213338652672.0000 - val_loss: 138793844736.0000\n",
            "Epoch 18/25\n",
            "45/45 - 2s - 41ms/step - loss: 212595687424.0000 - val_loss: 140795838464.0000\n",
            "Epoch 19/25\n",
            "45/45 - 2s - 42ms/step - loss: 213007581184.0000 - val_loss: 143748939776.0000\n",
            "Epoch 20/25\n",
            "45/45 - 2s - 42ms/step - loss: 211682787328.0000 - val_loss: 138189635584.0000\n",
            "Epoch 21/25\n",
            "45/45 - 2s - 42ms/step - loss: 212836417536.0000 - val_loss: 138260774912.0000\n",
            "Epoch 22/25\n",
            "45/45 - 2s - 41ms/step - loss: 210342969344.0000 - val_loss: 139813289984.0000\n",
            "Epoch 23/25\n",
            "45/45 - 2s - 41ms/step - loss: 209516740608.0000 - val_loss: 139810226176.0000\n",
            "Epoch 24/25\n",
            "45/45 - 2s - 42ms/step - loss: 206537457664.0000 - val_loss: 138035757056.0000\n",
            "Epoch 25/25\n",
            "45/45 - 2s - 41ms/step - loss: 213051179008.0000 - val_loss: 152427741184.0000\n",
            "\n",
            "[INFO] Evaluating model...\n",
            "\u001b[1m5/5\u001b[0m \u001b[32m━━━━━━━━━━━━━━━━━━━━\u001b[0m\u001b[37m\u001b[0m \u001b[1m0s\u001b[0m 18ms/step\n",
            "\n",
            "========================================\n",
            " Multimodal Housing Price Prediction Results\n",
            "========================================\n",
            "Mean Absolute Error (MAE): $367,638.51\n",
            "Root Mean Squared Error (RMSE): $629,051.61\n",
            "========================================\n"
          ]
        }
      ]
    }
  ]
}